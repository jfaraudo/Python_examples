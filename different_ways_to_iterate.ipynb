{
  "nbformat": 4,
  "nbformat_minor": 0,
  "metadata": {
    "colab": {
      "provenance": [],
      "authorship_tag": "ABX9TyPUAcom81AU1kQUsa+V/KEh",
      "include_colab_link": true
    },
    "kernelspec": {
      "name": "python3",
      "display_name": "Python 3"
    },
    "language_info": {
      "name": "python"
    }
  },
  "cells": [
    {
      "cell_type": "markdown",
      "metadata": {
        "id": "view-in-github",
        "colab_type": "text"
      },
      "source": [
        "<a href=\"https://colab.research.google.com/github/jfaraudo/Python_examples/blob/main/different_ways_to_iterate.ipynb\" target=\"_parent\"><img src=\"https://colab.research.google.com/assets/colab-badge.svg\" alt=\"Open In Colab\"/></a>"
      ]
    },
    {
      "cell_type": "markdown",
      "source": [
        "In python we have different ways to iterate (repeat a task).\n",
        "\n",
        "One option is to iterate until a condition is fulfilled.\n",
        "\n",
        "For example here we do a calculation that ends when a variable reaches 100:"
      ],
      "metadata": {
        "id": "E6Qi9x6inm3F"
      }
    },
    {
      "cell_type": "code",
      "source": [
        "i=0\n",
        "total=0\n",
        "while i<14:\n",
        "  total =total + i\n",
        "  print(\"step \", i, \" total=\", total)\n",
        "  i=i+1"
      ],
      "metadata": {
        "colab": {
          "base_uri": "https://localhost:8080/"
        },
        "id": "7lhI2GsVn3-M",
        "outputId": "1cf60299-6c04-4624-bf8c-245024eae63b"
      },
      "execution_count": null,
      "outputs": [
        {
          "output_type": "stream",
          "name": "stdout",
          "text": [
            "step  0  total= 0\n",
            "step  1  total= 1\n",
            "step  2  total= 3\n",
            "step  3  total= 6\n",
            "step  4  total= 10\n",
            "step  5  total= 15\n",
            "step  6  total= 21\n",
            "step  7  total= 28\n",
            "step  8  total= 36\n",
            "step  9  total= 45\n",
            "step  10  total= 55\n",
            "step  11  total= 66\n",
            "step  12  total= 78\n",
            "step  13  total= 91\n"
          ]
        }
      ]
    },
    {
      "cell_type": "markdown",
      "source": [
        "Another option is to make a loop with a fixed number of iterations"
      ],
      "metadata": {
        "id": "CFT2EQjvpYYk"
      }
    },
    {
      "cell_type": "code",
      "source": [
        "total=0\n",
        "for i in range(0,14):\n",
        "  total =total + i\n",
        "  print(\"step \", i, \" total=\", total)"
      ],
      "metadata": {
        "colab": {
          "base_uri": "https://localhost:8080/"
        },
        "id": "eI6zbewPpUsl",
        "outputId": "da4a65cd-3de8-411f-e66c-401caedb4e5c"
      },
      "execution_count": null,
      "outputs": [
        {
          "output_type": "stream",
          "name": "stdout",
          "text": [
            "step  0  total= 0\n",
            "step  1  total= 1\n",
            "step  2  total= 3\n",
            "step  3  total= 6\n",
            "step  4  total= 10\n",
            "step  5  total= 15\n",
            "step  6  total= 21\n",
            "step  7  total= 28\n",
            "step  8  total= 36\n",
            "step  9  total= 45\n",
            "step  10  total= 55\n",
            "step  11  total= 66\n",
            "step  12  total= 78\n",
            "step  13  total= 91\n"
          ]
        }
      ]
    }
  ]
}