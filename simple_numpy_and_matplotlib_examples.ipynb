{
  "nbformat": 4,
  "nbformat_minor": 0,
  "metadata": {
    "colab": {
      "provenance": [],
      "authorship_tag": "ABX9TyMukSiLvnMDsXTL+Osw7lmr",
      "include_colab_link": true
    },
    "kernelspec": {
      "name": "python3",
      "display_name": "Python 3"
    },
    "language_info": {
      "name": "python"
    }
  },
  "cells": [
    {
      "cell_type": "markdown",
      "metadata": {
        "id": "view-in-github",
        "colab_type": "text"
      },
      "source": [
        "<a href=\"https://colab.research.google.com/github/jfaraudo/Python_examples/blob/main/simple_numpy_and_matplotlib_examples.ipynb\" target=\"_parent\"><img src=\"https://colab.research.google.com/assets/colab-badge.svg\" alt=\"Open In Colab\"/></a>"
      ]
    },
    {
      "cell_type": "markdown",
      "source": [
        "**A Simple Example using NumPy**\n",
        "\n",
        "Documentation NumPy library:\n",
        "https://numpy.org/doc/stable/index.html"
      ],
      "metadata": {
        "id": "4UOKHmCdIDhK"
      }
    },
    {
      "cell_type": "markdown",
      "source": [
        "Let us import the numpy library"
      ],
      "metadata": {
        "id": "S1xrgWqYIJ9N"
      }
    },
    {
      "cell_type": "code",
      "source": [
        "import numpy as np"
      ],
      "metadata": {
        "id": "m0XzuFc5IMkT"
      },
      "execution_count": null,
      "outputs": []
    },
    {
      "cell_type": "markdown",
      "source": [
        "use a numpy function"
      ],
      "metadata": {
        "id": "Gmr2K_-KIqoL"
      }
    },
    {
      "cell_type": "code",
      "source": [
        "np.exp(1.0)"
      ],
      "metadata": {
        "colab": {
          "base_uri": "https://localhost:8080/"
        },
        "id": "Dgj5j2KSIo3F",
        "outputId": "b036ff4f-01b6-4951-bdf1-870987ef60a3"
      },
      "execution_count": null,
      "outputs": [
        {
          "output_type": "execute_result",
          "data": {
            "text/plain": [
              "2.718281828459045"
            ]
          },
          "metadata": {},
          "execution_count": 14
        }
      ]
    },
    {
      "cell_type": "code",
      "source": [
        "np.exp(-2.0)"
      ],
      "metadata": {
        "colab": {
          "base_uri": "https://localhost:8080/"
        },
        "id": "HVJ7BNo_I-pH",
        "outputId": "d1fe2f0d-e434-466a-c2a8-870e7d4e2695"
      },
      "execution_count": null,
      "outputs": [
        {
          "output_type": "execute_result",
          "data": {
            "text/plain": [
              "0.1353352832366127"
            ]
          },
          "metadata": {},
          "execution_count": 15
        }
      ]
    },
    {
      "cell_type": "markdown",
      "source": [
        "Let us make a list of data"
      ],
      "metadata": {
        "id": "7GruA7mTJD9D"
      }
    },
    {
      "cell_type": "code",
      "source": [
        "x = np.arange(0.0,2.0,0.1)\n",
        "print(x)"
      ],
      "metadata": {
        "colab": {
          "base_uri": "https://localhost:8080/"
        },
        "id": "bcAfVXMqJBhN",
        "outputId": "3b438849-dcaf-4efe-9af2-18d3efa355cc"
      },
      "execution_count": null,
      "outputs": [
        {
          "output_type": "stream",
          "name": "stdout",
          "text": [
            "[0.  0.1 0.2 0.3 0.4 0.5 0.6 0.7 0.8 0.9 1.  1.1 1.2 1.3 1.4 1.5 1.6 1.7\n",
            " 1.8 1.9]\n"
          ]
        }
      ]
    },
    {
      "cell_type": "markdown",
      "source": [
        "and let us calculate something from the list"
      ],
      "metadata": {
        "id": "kTR64--ZJTNT"
      }
    },
    {
      "cell_type": "code",
      "source": [
        "y=np.exp(x)\n",
        "print(y)"
      ],
      "metadata": {
        "colab": {
          "base_uri": "https://localhost:8080/"
        },
        "id": "_YvgBHPoJNOd",
        "outputId": "2c4b4920-61e5-4a0d-c2de-6ff633c06682"
      },
      "execution_count": null,
      "outputs": [
        {
          "output_type": "stream",
          "name": "stdout",
          "text": [
            "[1.         1.10517092 1.22140276 1.34985881 1.4918247  1.64872127\n",
            " 1.8221188  2.01375271 2.22554093 2.45960311 2.71828183 3.00416602\n",
            " 3.32011692 3.66929667 4.05519997 4.48168907 4.95303242 5.47394739\n",
            " 6.04964746 6.68589444]\n"
          ]
        }
      ]
    },
    {
      "cell_type": "markdown",
      "source": [
        "Let us plot this function. This can be done using the matplotlib library https://matplotlib.org/\n",
        "\n",
        "First, let us import that library"
      ],
      "metadata": {
        "id": "E_PetG9GJoCC"
      }
    },
    {
      "cell_type": "code",
      "source": [
        "import matplotlib.pyplot as plt"
      ],
      "metadata": {
        "id": "pG5Q_zorJYad"
      },
      "execution_count": null,
      "outputs": []
    },
    {
      "cell_type": "markdown",
      "source": [
        "and now let us plot it!"
      ],
      "metadata": {
        "id": "cMnn38IfJvBL"
      }
    },
    {
      "cell_type": "code",
      "source": [
        "plt.plot(x,y)\n",
        "plt.show()"
      ],
      "metadata": {
        "colab": {
          "base_uri": "https://localhost:8080/",
          "height": 430
        },
        "id": "ZSIvrSZ1JukM",
        "outputId": "1ca58200-e966-4aca-bd7e-8d9f724747b8"
      },
      "execution_count": null,
      "outputs": [
        {
          "output_type": "display_data",
          "data": {
            "text/plain": [
              "<Figure size 640x480 with 1 Axes>"
            ],
            "image/png": "[encoded data removed]"
          },
          "metadata": {}
        }
      ]
    },
    {
      "cell_type": "markdown",
      "source": [
        "we can use different colors and symbols"
      ],
      "metadata": {
        "id": "e33M4SSBKB1D"
      }
    },
    {
      "cell_type": "code",
      "source": [
        "plt.plot(x,y,'bo')\n",
        "plt.show()"
      ],
      "metadata": {
        "colab": {
          "base_uri": "https://localhost:8080/",
          "height": 430
        },
        "id": "TvSeRUvQJ7Cc",
        "outputId": "5d0910f1-fab8-4178-957a-2f76bd730a10"
      },
      "execution_count": null,
      "outputs": [
        {
          "output_type": "display_data",
          "data": {
            "text/plain": [
              "<Figure size 640x480 with 1 Axes>"
            ],
            "image/png": "[encoded data removed]"
          },
          "metadata": {}
        }
      ]
    },
    {
      "cell_type": "code",
      "source": [
        "plt.plot(x,y,'bv')\n",
        "plt.show()"
      ],
      "metadata": {
        "colab": {
          "base_uri": "https://localhost:8080/",
          "height": 430
        },
        "outputId": "c22feb08-867e-4729-82bb-995fbe57b9af",
        "id": "-OsrHqPEKfl8"
      },
      "execution_count": null,
      "outputs": [
        {
          "output_type": "display_data",
          "data": {
            "text/plain": [
              "<Figure size 640x480 with 1 Axes>"
            ],
            "image/png": "[encoded data removed]"
          },
          "metadata": {}
        }
      ]
    },
    {
      "cell_type": "code",
      "source": [
        "plt.plot(x,y,'rv')\n",
        "plt.show()"
      ],
      "metadata": {
        "colab": {
          "base_uri": "https://localhost:8080/",
          "height": 430
        },
        "outputId": "d1f64b6e-be52-4e78-f3b8-238acf0bfe99",
        "id": "tqh5fGtgKjSN"
      },
      "execution_count": null,
      "outputs": [
        {
          "output_type": "display_data",
          "data": {
            "text/plain": [
              "<Figure size 640x480 with 1 Axes>"
            ],
            "image/png": "[encoded data removed]"
          },
          "metadata": {}
        }
      ]
    },
    {
      "cell_type": "code",
      "source": [],
      "metadata": {
        "id": "QF4c8KbqKlCN"
      },
      "execution_count": null,
      "outputs": []
    }
  ]
}