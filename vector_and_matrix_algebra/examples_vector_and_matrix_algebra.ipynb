{
  "nbformat": 4,
  "nbformat_minor": 0,
  "metadata": {
    "colab": {
      "provenance": [],
      "authorship_tag": "ABX9TyMJkb33vMuWW/qYBtdJj6/G",
      "include_colab_link": true
    },
    "kernelspec": {
      "name": "python3",
      "display_name": "Python 3"
    },
    "language_info": {
      "name": "python"
    }
  },
  "cells": [
    {
      "cell_type": "markdown",
      "metadata": {
        "id": "view-in-github",
        "colab_type": "text"
      },
      "source": [
        "<a href=\"https://colab.research.google.com/github/jfaraudo/Python_examples/blob/main/vector_and_matrix_algebra/examples_vector_and_matrix_algebra.ipynb\" target=\"_parent\"><img src=\"https://colab.research.google.com/assets/colab-badge.svg\" alt=\"Open In Colab\"/></a>"
      ]
    },
    {
      "cell_type": "markdown",
      "source": [
        "# **Examples involving Vector and Matrix Algebra**"
      ],
      "metadata": {
        "id": "uOqcsDNsME0g"
      }
    },
    {
      "cell_type": "code",
      "source": [
        "import numpy as np"
      ],
      "metadata": {
        "id": "ROctBNNnMSTk"
      },
      "execution_count": null,
      "outputs": []
    },
    {
      "cell_type": "markdown",
      "source": [
        "**1) Vectors**"
      ],
      "metadata": {
        "id": "D2B2ugUHMfWj"
      }
    },
    {
      "cell_type": "markdown",
      "source": [
        "Vectors in numpy are introduced as arrays. They can be added and substracted. For example, let us add and substract the vectors (0,-2,0) and (1,0,0)"
      ],
      "metadata": {
        "id": "NVJve1P_Mfbq"
      }
    },
    {
      "cell_type": "code",
      "source": [
        "v = np.array([1,0,0])\n",
        "print(v)\n",
        "u = np.array([0,-2,0])\n",
        "print(u)\n",
        "w1 = u+v\n",
        "print(w1)\n",
        "w2=u-v\n",
        "print(w2)\n"
      ],
      "metadata": {
        "colab": {
          "base_uri": "https://localhost:8080/"
        },
        "id": "y3iYXukcNFQr",
        "outputId": "4a6a71cf-90e8-4e27-c22b-f5eba16168f0"
      },
      "execution_count": null,
      "outputs": [
        {
          "output_type": "stream",
          "name": "stdout",
          "text": [
            "[1 0 0]\n",
            "[ 0 -2  0]\n",
            "[ 1 -2  0]\n",
            "[-1 -2  0]\n"
          ]
        }
      ]
    },
    {
      "cell_type": "markdown",
      "source": [
        "Dot product between u and v"
      ],
      "metadata": {
        "id": "qVB4ty3YNkKv"
      }
    },
    {
      "cell_type": "code",
      "source": [
        "np.dot(u,v)"
      ],
      "metadata": {
        "colab": {
          "base_uri": "https://localhost:8080/"
        },
        "id": "Wcv4-xEUNn0T",
        "outputId": "b21febba-8d67-42e3-9e16-575115e0806d"
      },
      "execution_count": null,
      "outputs": [
        {
          "output_type": "execute_result",
          "data": {
            "text/plain": [
              "0"
            ]
          },
          "metadata": {},
          "execution_count": 4
        }
      ]
    },
    {
      "cell_type": "markdown",
      "source": [
        "Dot product between w1 and w2"
      ],
      "metadata": {
        "id": "Pv39LVBkNyrZ"
      }
    },
    {
      "cell_type": "code",
      "source": [
        "np.dot(w1,w2)"
      ],
      "metadata": {
        "colab": {
          "base_uri": "https://localhost:8080/"
        },
        "id": "pFYQSB1rN2Ni",
        "outputId": "d031fa56-e532-4064-adc7-8349d829a6f4"
      },
      "execution_count": null,
      "outputs": [
        {
          "output_type": "execute_result",
          "data": {
            "text/plain": [
              "3"
            ]
          },
          "metadata": {},
          "execution_count": 5
        }
      ]
    },
    {
      "cell_type": "markdown",
      "source": [
        "Cross (vector) product"
      ],
      "metadata": {
        "id": "LWX4pQAVOfDG"
      }
    },
    {
      "cell_type": "code",
      "source": [
        "np.cross(v,u)"
      ],
      "metadata": {
        "colab": {
          "base_uri": "https://localhost:8080/"
        },
        "id": "wfzB-dnTOhKl",
        "outputId": "a17c3a74-61a6-499b-8eaf-bde2649d3b4a"
      },
      "execution_count": null,
      "outputs": [
        {
          "output_type": "execute_result",
          "data": {
            "text/plain": [
              "array([ 0,  0, -2])"
            ]
          },
          "metadata": {},
          "execution_count": 6
        }
      ]
    },
    {
      "cell_type": "markdown",
      "source": [
        "**2) Matrix Algebra**"
      ],
      "metadata": {
        "id": "l9m_DRbKOW8H"
      }
    },
    {
      "cell_type": "markdown",
      "source": [
        "Let us define a matrix"
      ],
      "metadata": {
        "id": "Rg8LWZQFObPY"
      }
    },
    {
      "cell_type": "code",
      "source": [
        "A=np.array([[2,2],[1,3]])\n",
        "print(A)\n"
      ],
      "metadata": {
        "colab": {
          "base_uri": "https://localhost:8080/"
        },
        "id": "KwXZSLmrOdDG",
        "outputId": "70065da8-16ee-426d-a263-aee01d2feeb3"
      },
      "execution_count": null,
      "outputs": [
        {
          "output_type": "stream",
          "name": "stdout",
          "text": [
            "[[2 2]\n",
            " [1 3]]\n"
          ]
        }
      ]
    },
    {
      "cell_type": "markdown",
      "source": [
        "We can access to individual elements"
      ],
      "metadata": {
        "id": "D6m8A8fLPYJY"
      }
    },
    {
      "cell_type": "code",
      "source": [
        "e = A[0,1]\n",
        "print(e)"
      ],
      "metadata": {
        "colab": {
          "base_uri": "https://localhost:8080/"
        },
        "id": "avKQZj_MP0Z-",
        "outputId": "7e961301-389e-477b-8dde-007412e5163c"
      },
      "execution_count": null,
      "outputs": [
        {
          "output_type": "stream",
          "name": "stdout",
          "text": [
            "2\n"
          ]
        }
      ]
    },
    {
      "cell_type": "code",
      "source": [
        "f = A[1,1]\n",
        "print(f)"
      ],
      "metadata": {
        "colab": {
          "base_uri": "https://localhost:8080/"
        },
        "id": "J5W9mETJQCSJ",
        "outputId": "d2588652-3325-47b2-959a-0b32cab10db8"
      },
      "execution_count": null,
      "outputs": [
        {
          "output_type": "stream",
          "name": "stdout",
          "text": [
            "3\n"
          ]
        }
      ]
    },
    {
      "cell_type": "markdown",
      "source": [
        "or to full columns or lines to create vectors"
      ],
      "metadata": {
        "id": "Cn9eBysIPmnS"
      }
    },
    {
      "cell_type": "code",
      "source": [
        "v=A[0,:]\n",
        "print(v)"
      ],
      "metadata": {
        "colab": {
          "base_uri": "https://localhost:8080/"
        },
        "id": "z0xZVc59PEVe",
        "outputId": "38e19e74-15c6-4c26-d1e9-d3fe844cf548"
      },
      "execution_count": null,
      "outputs": [
        {
          "output_type": "stream",
          "name": "stdout",
          "text": [
            "[2 2]\n"
          ]
        }
      ]
    },
    {
      "cell_type": "code",
      "source": [
        "u=A[:,0]\n",
        "print(u)"
      ],
      "metadata": {
        "colab": {
          "base_uri": "https://localhost:8080/"
        },
        "id": "vMRLeTZGQOMh",
        "outputId": "e6369e58-1c18-4c35-c920-1c7bbfc542f9"
      },
      "execution_count": null,
      "outputs": [
        {
          "output_type": "stream",
          "name": "stdout",
          "text": [
            "[2 1]\n"
          ]
        }
      ]
    },
    {
      "cell_type": "markdown",
      "source": [
        "We can also diagonalize the matrix (eigenvalues and eigenvectors)"
      ],
      "metadata": {
        "id": "y8Ezy4jDQYSR"
      }
    },
    {
      "cell_type": "code",
      "source": [
        "Valors,Vectors = np.linalg.eig(A)\n",
        "print(\"Eigenvalues:\",Valors)\n",
        "print(\"EigenVectors:\")\n",
        "print(Vectors)"
      ],
      "metadata": {
        "colab": {
          "base_uri": "https://localhost:8080/"
        },
        "id": "yXSck3yGQhxC",
        "outputId": "68ea0ff7-a01a-4093-dc32-c72f462cce6f"
      },
      "execution_count": null,
      "outputs": [
        {
          "output_type": "stream",
          "name": "stdout",
          "text": [
            "Eigenvalues: [1. 4.]\n",
            "EigenVectors:\n",
            "[[-0.89442719 -0.70710678]\n",
            " [ 0.4472136  -0.70710678]]\n"
          ]
        }
      ]
    },
    {
      "cell_type": "markdown",
      "source": [
        "Test that the eigenvectors are truly eigenvectors.\n",
        "First eigenvector:"
      ],
      "metadata": {
        "id": "nyjEbCrPRFOV"
      }
    },
    {
      "cell_type": "code",
      "source": [
        "u=Vectors[:,0]\n",
        "print(u)"
      ],
      "metadata": {
        "colab": {
          "base_uri": "https://localhost:8080/"
        },
        "id": "VdXe3PMLRbBg",
        "outputId": "d33697a2-190c-4f62-a018-394cfdc1a8e7"
      },
      "execution_count": null,
      "outputs": [
        {
          "output_type": "stream",
          "name": "stdout",
          "text": [
            "[-0.89442719  0.4472136 ]\n"
          ]
        }
      ]
    },
    {
      "cell_type": "markdown",
      "source": [
        "Apply the matrix to the vector"
      ],
      "metadata": {
        "id": "3KlmFLdARs0u"
      }
    },
    {
      "cell_type": "code",
      "source": [
        "np.dot(A,u)"
      ],
      "metadata": {
        "colab": {
          "base_uri": "https://localhost:8080/"
        },
        "id": "O8Os3YVmRlXZ",
        "outputId": "6f6973f3-efe8-447e-9947-e2550566814d"
      },
      "execution_count": null,
      "outputs": [
        {
          "output_type": "execute_result",
          "data": {
            "text/plain": [
              "array([-0.89442719,  0.4472136 ])"
            ]
          },
          "metadata": {},
          "execution_count": 14
        }
      ]
    },
    {
      "cell_type": "markdown",
      "source": [
        "Same for the second eigenvector"
      ],
      "metadata": {
        "id": "1S3YYyWLR0Fy"
      }
    },
    {
      "cell_type": "code",
      "source": [
        "v=Vectors[0:,1]\n",
        "print(v)"
      ],
      "metadata": {
        "colab": {
          "base_uri": "https://localhost:8080/"
        },
        "id": "88jjs9oaR21u",
        "outputId": "fb502e6a-789e-488e-96e3-3d028d0d1f9b"
      },
      "execution_count": null,
      "outputs": [
        {
          "output_type": "stream",
          "name": "stdout",
          "text": [
            "[-0.70710678 -0.70710678]\n"
          ]
        }
      ]
    },
    {
      "cell_type": "code",
      "source": [
        "np.dot(A,v)"
      ],
      "metadata": {
        "colab": {
          "base_uri": "https://localhost:8080/"
        },
        "id": "Yte7oWwER-_K",
        "outputId": "18e660f8-b6eb-4dea-e353-8ecbc9b97a7f"
      },
      "execution_count": null,
      "outputs": [
        {
          "output_type": "execute_result",
          "data": {
            "text/plain": [
              "array([-2.82842712, -2.82842712])"
            ]
          },
          "metadata": {},
          "execution_count": 16
        }
      ]
    },
    {
      "cell_type": "markdown",
      "source": [
        "We can easily see that the eigenvectors are normalized:"
      ],
      "metadata": {
        "id": "veogntVvG68e"
      }
    },
    {
      "cell_type": "code",
      "source": [
        "np.dot(v,v)"
      ],
      "metadata": {
        "colab": {
          "base_uri": "https://localhost:8080/"
        },
        "id": "-Oi5C7vfHGSF",
        "outputId": "f4f2a0bd-6902-4499-e48e-deb427c20a29"
      },
      "execution_count": null,
      "outputs": [
        {
          "output_type": "execute_result",
          "data": {
            "text/plain": [
              "1.0"
            ]
          },
          "metadata": {},
          "execution_count": 17
        }
      ]
    },
    {
      "cell_type": "code",
      "source": [
        "np.dot(u,u)"
      ],
      "metadata": {
        "colab": {
          "base_uri": "https://localhost:8080/"
        },
        "id": "kmdUAtw3HUAF",
        "outputId": "868f840a-a396-4d3c-e20c-717e7ee57cb6"
      },
      "execution_count": null,
      "outputs": [
        {
          "output_type": "execute_result",
          "data": {
            "text/plain": [
              "0.9999999999999999"
            ]
          },
          "metadata": {},
          "execution_count": 18
        }
      ]
    },
    {
      "cell_type": "markdown",
      "source": [
        "**More Matrix stuff**"
      ],
      "metadata": {
        "id": "18WyP3CFHXlz"
      }
    },
    {
      "cell_type": "markdown",
      "source": [
        "Some curious matrix"
      ],
      "metadata": {
        "id": "z9dfAztoSH9B"
      }
    },
    {
      "cell_type": "code",
      "source": [
        "np.zeros([3,3])"
      ],
      "metadata": {
        "colab": {
          "base_uri": "https://localhost:8080/"
        },
        "id": "hhxz-PBMcZTP",
        "outputId": "1362e98d-c6c9-42ad-e9ad-ee992925bc1d"
      },
      "execution_count": null,
      "outputs": [
        {
          "output_type": "execute_result",
          "data": {
            "text/plain": [
              "array([[0., 0., 0.],\n",
              "       [0., 0., 0.],\n",
              "       [0., 0., 0.]])"
            ]
          },
          "metadata": {},
          "execution_count": 6
        }
      ]
    },
    {
      "cell_type": "code",
      "source": [
        "np.random.random([3,3])"
      ],
      "metadata": {
        "colab": {
          "base_uri": "https://localhost:8080/"
        },
        "id": "ofD-rO68cdUB",
        "outputId": "2f5142ec-f8f6-42cd-abd6-4de4769ae1d9"
      },
      "execution_count": null,
      "outputs": [
        {
          "output_type": "execute_result",
          "data": {
            "text/plain": [
              "array([[0.39650143, 0.2862621 , 0.79557747],\n",
              "       [0.88220872, 0.94378837, 0.37141352],\n",
              "       [0.79520949, 0.03658419, 0.87937976]])"
            ]
          },
          "metadata": {},
          "execution_count": 7
        }
      ]
    },
    {
      "cell_type": "code",
      "source": [],
      "metadata": {
        "id": "MKhxXlc9ctT6"
      },
      "execution_count": null,
      "outputs": []
    }
  ]
}