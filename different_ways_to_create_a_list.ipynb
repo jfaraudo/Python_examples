{
  "nbformat": 4,
  "nbformat_minor": 0,
  "metadata": {
    "colab": {
      "provenance": [],
      "authorship_tag": "ABX9TyNkK2K9Qp0dv0iX2AWRTzjF",
      "include_colab_link": true
    },
    "kernelspec": {
      "name": "python3",
      "display_name": "Python 3"
    },
    "language_info": {
      "name": "python"
    }
  },
  "cells": [
    {
      "cell_type": "markdown",
      "metadata": {
        "id": "view-in-github",
        "colab_type": "text"
      },
      "source": [
        "<a href=\"https://colab.research.google.com/github/jfaraudo/Python_examples/blob/main/different_ways_to_create_a_list.ipynb\" target=\"_parent\"><img src=\"https://colab.research.google.com/assets/colab-badge.svg\" alt=\"Open In Colab\"/></a>"
      ]
    },
    {
      "cell_type": "markdown",
      "source": [
        "#Options ot create a list\n",
        "\n",
        "One option is to create an empty list and add new list members anytime we need.\n",
        "First we create the list:"
      ],
      "metadata": {
        "id": "bhyBKG2XspL3"
      }
    },
    {
      "cell_type": "code",
      "source": [
        "v=[]\n",
        "a=[]"
      ],
      "metadata": {
        "id": "GfhxrjDbs8JV"
      },
      "execution_count": 19,
      "outputs": []
    },
    {
      "cell_type": "markdown",
      "source": [
        "which is empty:"
      ],
      "metadata": {
        "id": "VXaS8Z2qtgwf"
      }
    },
    {
      "cell_type": "code",
      "source": [
        "len(v)"
      ],
      "metadata": {
        "colab": {
          "base_uri": "https://localhost:8080/"
        },
        "id": "eOre0xDvtiQX",
        "outputId": "62fd2b34-223b-4c2e-f80d-2380c5220f4e"
      },
      "execution_count": 20,
      "outputs": [
        {
          "output_type": "execute_result",
          "data": {
            "text/plain": [
              "0"
            ]
          },
          "metadata": {},
          "execution_count": 20
        }
      ]
    },
    {
      "cell_type": "markdown",
      "source": [
        "Now we add values:"
      ],
      "metadata": {
        "id": "W5DTGrUFtmf8"
      }
    },
    {
      "cell_type": "code",
      "source": [
        "v.append(2.0)\n",
        "a.append(-1)\n",
        "a.append(23.1)"
      ],
      "metadata": {
        "id": "8d4qkj3iuKUy"
      },
      "execution_count": 21,
      "outputs": []
    },
    {
      "cell_type": "markdown",
      "source": [
        "And now the lists are longer:"
      ],
      "metadata": {
        "id": "CJdGwPqUutBa"
      }
    },
    {
      "cell_type": "code",
      "source": [
        "len(v)"
      ],
      "metadata": {
        "colab": {
          "base_uri": "https://localhost:8080/"
        },
        "id": "Kt1M8lfRuu_I",
        "outputId": "52522894-70cf-45fc-a79d-a432922caa3a"
      },
      "execution_count": 22,
      "outputs": [
        {
          "output_type": "execute_result",
          "data": {
            "text/plain": [
              "1"
            ]
          },
          "metadata": {},
          "execution_count": 22
        }
      ]
    },
    {
      "cell_type": "code",
      "source": [
        "print(v)"
      ],
      "metadata": {
        "colab": {
          "base_uri": "https://localhost:8080/"
        },
        "id": "Q9J-6fSyvDFh",
        "outputId": "eeab2f07-8ac6-42f1-eef6-9bf5ca5dfd45"
      },
      "execution_count": 23,
      "outputs": [
        {
          "output_type": "stream",
          "name": "stdout",
          "text": [
            "[2.0]\n"
          ]
        }
      ]
    },
    {
      "cell_type": "code",
      "source": [
        "len(a)"
      ],
      "metadata": {
        "colab": {
          "base_uri": "https://localhost:8080/"
        },
        "id": "ViC3LDPcu9sX",
        "outputId": "f03dc13f-f0f5-4626-dda3-fdb55f827aab"
      },
      "execution_count": 24,
      "outputs": [
        {
          "output_type": "execute_result",
          "data": {
            "text/plain": [
              "2"
            ]
          },
          "metadata": {},
          "execution_count": 24
        }
      ]
    },
    {
      "cell_type": "code",
      "source": [
        "print(a)"
      ],
      "metadata": {
        "colab": {
          "base_uri": "https://localhost:8080/"
        },
        "id": "uwViDsSIvA5D",
        "outputId": "1f67cc39-798c-49c8-f609-b7d280c85468"
      },
      "execution_count": 25,
      "outputs": [
        {
          "output_type": "stream",
          "name": "stdout",
          "text": [
            "[-1, 23.1]\n"
          ]
        }
      ]
    },
    {
      "cell_type": "markdown",
      "source": [
        "These lists are python lists but NOT numpy arrays, so we cannot calculate with them using numpy.\n",
        "\n",
        "Do not worry, the conversion can be made easily:"
      ],
      "metadata": {
        "id": "_5L6yC0uvVqK"
      }
    },
    {
      "cell_type": "code",
      "source": [
        "import numpy as np\n",
        "ac=np.array(a)\n",
        "print(ac)"
      ],
      "metadata": {
        "colab": {
          "base_uri": "https://localhost:8080/"
        },
        "id": "WerZtZ6cvZ2X",
        "outputId": "cab0f170-e4cc-434f-bcc6-381672d701d1"
      },
      "execution_count": 28,
      "outputs": [
        {
          "output_type": "stream",
          "name": "stdout",
          "text": [
            "[-1.  23.1]\n"
          ]
        }
      ]
    },
    {
      "cell_type": "code",
      "source": [
        "np.exp(a)"
      ],
      "metadata": {
        "colab": {
          "base_uri": "https://localhost:8080/"
        },
        "id": "dj4kRYFyvm3p",
        "outputId": "52e1b398-bb5f-48da-9a0b-b113b24499a5"
      },
      "execution_count": 29,
      "outputs": [
        {
          "output_type": "execute_result",
          "data": {
            "text/plain": [
              "array([3.67879441e-01, 1.07696734e+10])"
            ]
          },
          "metadata": {},
          "execution_count": 29
        }
      ]
    },
    {
      "cell_type": "markdown",
      "source": [
        "Another option to create numpy arrays is to create an array initially full of zeros:"
      ],
      "metadata": {
        "id": "vKK0Yppav0-8"
      }
    },
    {
      "cell_type": "code",
      "source": [
        "v2=np.zeros(1)\n",
        "a2=np.zeros(2)"
      ],
      "metadata": {
        "id": "K1XANjZ6v_8w"
      },
      "execution_count": 30,
      "outputs": []
    },
    {
      "cell_type": "code",
      "source": [
        "print(v2)\n",
        "print(a2)"
      ],
      "metadata": {
        "colab": {
          "base_uri": "https://localhost:8080/"
        },
        "id": "GytKf-nowHm8",
        "outputId": "e092adf5-7721-4861-bb79-ef57c9b63d3e"
      },
      "execution_count": 32,
      "outputs": [
        {
          "output_type": "stream",
          "name": "stdout",
          "text": [
            "[0.]\n",
            "[0. 0.]\n"
          ]
        }
      ]
    },
    {
      "cell_type": "markdown",
      "source": [
        "Now we can modify the aray as we like maintaining the array size"
      ],
      "metadata": {
        "id": "GyG40PYPwRSB"
      }
    },
    {
      "cell_type": "code",
      "source": [
        "v2[0]=2.0\n",
        "a2[0]=-1.0\n",
        "print(v2)\n",
        "print(a2)"
      ],
      "metadata": {
        "colab": {
          "base_uri": "https://localhost:8080/"
        },
        "id": "n5WypGzQwQzE",
        "outputId": "31e1139a-e63a-473a-825e-1ca84cbc435b"
      },
      "execution_count": 33,
      "outputs": [
        {
          "output_type": "stream",
          "name": "stdout",
          "text": [
            "[2.]\n",
            "[-1.  0.]\n"
          ]
        }
      ]
    },
    {
      "cell_type": "code",
      "source": [
        "a2[1]=23.1\n",
        "print(a2)"
      ],
      "metadata": {
        "colab": {
          "base_uri": "https://localhost:8080/"
        },
        "id": "bwKdML4LwiQn",
        "outputId": "a1d74d53-eeb4-49bb-d965-c7db65b5a202"
      },
      "execution_count": 34,
      "outputs": [
        {
          "output_type": "stream",
          "name": "stdout",
          "text": [
            "[-1.  23.1]\n"
          ]
        }
      ]
    }
  ]
}