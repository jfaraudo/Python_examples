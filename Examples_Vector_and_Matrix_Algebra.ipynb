{
  "nbformat": 4,
  "nbformat_minor": 0,
  "metadata": {
    "colab": {
      "provenance": [],
      "authorship_tag": "ABX9TyMidmwKowlW3aFVgJm2rr8Y",
      "include_colab_link": true
    },
    "kernelspec": {
      "name": "python3",
      "display_name": "Python 3"
    },
    "language_info": {
      "name": "python"
    }
  },
  "cells": [
    {
      "cell_type": "markdown",
      "metadata": {
        "id": "view-in-github",
        "colab_type": "text"
      },
      "source": [
        "<a href=\"https://colab.research.google.com/github/jfaraudo/Python_examples/blob/main/Examples_Vector_and_Matrix_Algebra.ipynb\" target=\"_parent\"><img src=\"https://colab.research.google.com/assets/colab-badge.svg\" alt=\"Open In Colab\"/></a>"
      ]
    },
    {
      "cell_type": "markdown",
      "source": [
        "# **Examples involving Vector and Matrix Algebra**"
      ],
      "metadata": {
        "id": "uOqcsDNsME0g"
      }
    },
    {
      "cell_type": "code",
      "source": [
        "import numpy as np"
      ],
      "metadata": {
        "id": "ROctBNNnMSTk"
      },
      "execution_count": 3,
      "outputs": []
    },
    {
      "cell_type": "markdown",
      "source": [
        "**1) Vectors**"
      ],
      "metadata": {
        "id": "D2B2ugUHMfWj"
      }
    },
    {
      "cell_type": "markdown",
      "source": [
        "Vectors in numpy are introduced as arrays. They can be added and substracted. For example, let us add and substract the vectors (0,-2,0) and (1,0,0)"
      ],
      "metadata": {
        "id": "NVJve1P_Mfbq"
      }
    },
    {
      "cell_type": "code",
      "source": [
        "v = np.array([1,0,0])\n",
        "print(v)\n",
        "u = np.array([0,-2,0])\n",
        "print(u)\n",
        "w1 = u+v\n",
        "print(w1)\n",
        "w2=u-v\n",
        "print(w2)\n"
      ],
      "metadata": {
        "colab": {
          "base_uri": "https://localhost:8080/"
        },
        "id": "y3iYXukcNFQr",
        "outputId": "a8fd673c-7785-4f8d-f6cb-91a9e3970c78"
      },
      "execution_count": 4,
      "outputs": [
        {
          "output_type": "stream",
          "name": "stdout",
          "text": [
            "[1 0 0]\n",
            "[ 0 -2  0]\n",
            "[ 1 -2  0]\n",
            "[-1 -2  0]\n"
          ]
        }
      ]
    },
    {
      "cell_type": "markdown",
      "source": [
        "Dot product between u and v"
      ],
      "metadata": {
        "id": "qVB4ty3YNkKv"
      }
    },
    {
      "cell_type": "code",
      "source": [
        "np.dot(u,v)"
      ],
      "metadata": {
        "colab": {
          "base_uri": "https://localhost:8080/"
        },
        "id": "Wcv4-xEUNn0T",
        "outputId": "d267f0bb-ac85-4ab6-81c7-ed54ee090cac"
      },
      "execution_count": 5,
      "outputs": [
        {
          "output_type": "execute_result",
          "data": {
            "text/plain": [
              "0"
            ]
          },
          "metadata": {},
          "execution_count": 5
        }
      ]
    },
    {
      "cell_type": "markdown",
      "source": [
        "Dot product between w1 and w2"
      ],
      "metadata": {
        "id": "Pv39LVBkNyrZ"
      }
    },
    {
      "cell_type": "code",
      "source": [
        "np.dot(w1,w2)"
      ],
      "metadata": {
        "colab": {
          "base_uri": "https://localhost:8080/"
        },
        "id": "pFYQSB1rN2Ni",
        "outputId": "e57746fb-6d26-4b12-f527-4629d309875b"
      },
      "execution_count": null,
      "outputs": [
        {
          "output_type": "execute_result",
          "data": {
            "text/plain": [
              "3"
            ]
          },
          "metadata": {},
          "execution_count": 6
        }
      ]
    },
    {
      "cell_type": "markdown",
      "source": [
        "Cross (vector) product"
      ],
      "metadata": {
        "id": "LWX4pQAVOfDG"
      }
    },
    {
      "cell_type": "code",
      "source": [
        "np.cross(v,u)"
      ],
      "metadata": {
        "colab": {
          "base_uri": "https://localhost:8080/"
        },
        "id": "wfzB-dnTOhKl",
        "outputId": "c347dded-fb68-4783-fbfd-0c30b7a47bb2"
      },
      "execution_count": null,
      "outputs": [
        {
          "output_type": "execute_result",
          "data": {
            "text/plain": [
              "array([ 0,  0, -2])"
            ]
          },
          "metadata": {},
          "execution_count": 7
        }
      ]
    },
    {
      "cell_type": "markdown",
      "source": [
        "**2) Matrix Algebra**"
      ],
      "metadata": {
        "id": "l9m_DRbKOW8H"
      }
    },
    {
      "cell_type": "markdown",
      "source": [
        "Let us define a matrix"
      ],
      "metadata": {
        "id": "Rg8LWZQFObPY"
      }
    },
    {
      "cell_type": "code",
      "source": [
        "A=np.array([[2,2],[1,3]])\n",
        "print(A)\n"
      ],
      "metadata": {
        "colab": {
          "base_uri": "https://localhost:8080/"
        },
        "id": "KwXZSLmrOdDG",
        "outputId": "0e6f336c-b4eb-447a-cf68-4bf08db7b8e8"
      },
      "execution_count": null,
      "outputs": [
        {
          "output_type": "stream",
          "name": "stdout",
          "text": [
            "[[2 2]\n",
            " [1 3]]\n"
          ]
        }
      ]
    },
    {
      "cell_type": "markdown",
      "source": [
        "We can access to individual elements"
      ],
      "metadata": {
        "id": "D6m8A8fLPYJY"
      }
    },
    {
      "cell_type": "code",
      "source": [
        "e = A[0,1]\n",
        "print(e)"
      ],
      "metadata": {
        "colab": {
          "base_uri": "https://localhost:8080/"
        },
        "id": "avKQZj_MP0Z-",
        "outputId": "7a01c6ec-b0f1-4ba6-9009-4e53adee40af"
      },
      "execution_count": null,
      "outputs": [
        {
          "output_type": "stream",
          "name": "stdout",
          "text": [
            "2\n"
          ]
        }
      ]
    },
    {
      "cell_type": "code",
      "source": [
        "f = A[1,1]\n",
        "print(f)"
      ],
      "metadata": {
        "colab": {
          "base_uri": "https://localhost:8080/"
        },
        "id": "J5W9mETJQCSJ",
        "outputId": "e7c4a61a-c962-44a2-ad2f-ab6b7f3f55c6"
      },
      "execution_count": null,
      "outputs": [
        {
          "output_type": "stream",
          "name": "stdout",
          "text": [
            "3\n"
          ]
        }
      ]
    },
    {
      "cell_type": "markdown",
      "source": [
        "or to full columns or lines to create vectors"
      ],
      "metadata": {
        "id": "Cn9eBysIPmnS"
      }
    },
    {
      "cell_type": "code",
      "source": [
        "v=A[0,:]\n",
        "print(v)"
      ],
      "metadata": {
        "colab": {
          "base_uri": "https://localhost:8080/"
        },
        "id": "z0xZVc59PEVe",
        "outputId": "572008a8-7dc7-4650-b283-38aa33aaf4bd"
      },
      "execution_count": null,
      "outputs": [
        {
          "output_type": "stream",
          "name": "stdout",
          "text": [
            "[2 2]\n"
          ]
        }
      ]
    },
    {
      "cell_type": "code",
      "source": [
        "u=A[:,0]\n",
        "print(u)"
      ],
      "metadata": {
        "colab": {
          "base_uri": "https://localhost:8080/"
        },
        "id": "vMRLeTZGQOMh",
        "outputId": "843774b4-1904-488f-fa66-2881b5b42e2f"
      },
      "execution_count": null,
      "outputs": [
        {
          "output_type": "stream",
          "name": "stdout",
          "text": [
            "[2 1]\n"
          ]
        }
      ]
    },
    {
      "cell_type": "markdown",
      "source": [
        "We can also diagonalize the matrix (eigenvalues and eigenvectors)"
      ],
      "metadata": {
        "id": "y8Ezy4jDQYSR"
      }
    },
    {
      "cell_type": "code",
      "source": [
        "Valors,Vectors = np.linalg.eig(A)\n",
        "print(\"Eigenvalues:\",Valors)\n",
        "print(\"EigenVectors:\")\n",
        "print(Vectors)"
      ],
      "metadata": {
        "colab": {
          "base_uri": "https://localhost:8080/"
        },
        "id": "yXSck3yGQhxC",
        "outputId": "197a16e0-d231-4602-de96-7665ad468a9d"
      },
      "execution_count": null,
      "outputs": [
        {
          "output_type": "stream",
          "name": "stdout",
          "text": [
            "Eigenvalues: [1. 4.]\n",
            "EigenVectors:\n",
            "[[-0.89442719 -0.70710678]\n",
            " [ 0.4472136  -0.70710678]]\n"
          ]
        }
      ]
    },
    {
      "cell_type": "markdown",
      "source": [
        "Test that the eigenvectors are truly eigenvectors.\n",
        "First eigenvector:"
      ],
      "metadata": {
        "id": "nyjEbCrPRFOV"
      }
    },
    {
      "cell_type": "code",
      "source": [
        "u=Vectors[:,0]\n",
        "print(u)"
      ],
      "metadata": {
        "colab": {
          "base_uri": "https://localhost:8080/"
        },
        "id": "VdXe3PMLRbBg",
        "outputId": "a3e61877-7b97-4a7a-fe00-376aba58a5c2"
      },
      "execution_count": null,
      "outputs": [
        {
          "output_type": "stream",
          "name": "stdout",
          "text": [
            "[-0.89442719  0.4472136 ]\n"
          ]
        }
      ]
    },
    {
      "cell_type": "markdown",
      "source": [
        "Apply the matrix to the vector"
      ],
      "metadata": {
        "id": "3KlmFLdARs0u"
      }
    },
    {
      "cell_type": "code",
      "source": [
        "np.dot(A,u)"
      ],
      "metadata": {
        "colab": {
          "base_uri": "https://localhost:8080/"
        },
        "id": "O8Os3YVmRlXZ",
        "outputId": "cea73f15-c533-4709-a215-9caf6daa8e15"
      },
      "execution_count": null,
      "outputs": [
        {
          "output_type": "execute_result",
          "data": {
            "text/plain": [
              "array([-0.89442719,  0.4472136 ])"
            ]
          },
          "metadata": {},
          "execution_count": 26
        }
      ]
    },
    {
      "cell_type": "markdown",
      "source": [
        "Same for the second eigenvector"
      ],
      "metadata": {
        "id": "1S3YYyWLR0Fy"
      }
    },
    {
      "cell_type": "code",
      "source": [
        "v=Vectors[0:,1]\n",
        "print(v)"
      ],
      "metadata": {
        "colab": {
          "base_uri": "https://localhost:8080/"
        },
        "id": "88jjs9oaR21u",
        "outputId": "c05383e8-d17d-4a39-97a7-fb56e13ee5c8"
      },
      "execution_count": null,
      "outputs": [
        {
          "output_type": "stream",
          "name": "stdout",
          "text": [
            "[-0.70710678 -0.70710678]\n"
          ]
        }
      ]
    },
    {
      "cell_type": "code",
      "source": [
        "np.dot(A,v)"
      ],
      "metadata": {
        "colab": {
          "base_uri": "https://localhost:8080/"
        },
        "id": "Yte7oWwER-_K",
        "outputId": "e4d6970e-b1b9-4bc3-b60a-103f54dd2152"
      },
      "execution_count": null,
      "outputs": [
        {
          "output_type": "execute_result",
          "data": {
            "text/plain": [
              "array([-2.82842712, -2.82842712])"
            ]
          },
          "metadata": {},
          "execution_count": 28
        }
      ]
    },
    {
      "cell_type": "markdown",
      "source": [
        "Some curious matrix"
      ],
      "metadata": {
        "id": "z9dfAztoSH9B"
      }
    },
    {
      "cell_type": "code",
      "source": [
        "np.zeros([3,3])"
      ],
      "metadata": {
        "colab": {
          "base_uri": "https://localhost:8080/"
        },
        "id": "hhxz-PBMcZTP",
        "outputId": "1362e98d-c6c9-42ad-e9ad-ee992925bc1d"
      },
      "execution_count": 6,
      "outputs": [
        {
          "output_type": "execute_result",
          "data": {
            "text/plain": [
              "array([[0., 0., 0.],\n",
              "       [0., 0., 0.],\n",
              "       [0., 0., 0.]])"
            ]
          },
          "metadata": {},
          "execution_count": 6
        }
      ]
    },
    {
      "cell_type": "code",
      "source": [
        "np.random.random([3,3])"
      ],
      "metadata": {
        "colab": {
          "base_uri": "https://localhost:8080/"
        },
        "id": "ofD-rO68cdUB",
        "outputId": "2f5142ec-f8f6-42cd-abd6-4de4769ae1d9"
      },
      "execution_count": 7,
      "outputs": [
        {
          "output_type": "execute_result",
          "data": {
            "text/plain": [
              "array([[0.39650143, 0.2862621 , 0.79557747],\n",
              "       [0.88220872, 0.94378837, 0.37141352],\n",
              "       [0.79520949, 0.03658419, 0.87937976]])"
            ]
          },
          "metadata": {},
          "execution_count": 7
        }
      ]
    },
    {
      "cell_type": "code",
      "source": [],
      "metadata": {
        "id": "MKhxXlc9ctT6"
      },
      "execution_count": null,
      "outputs": []
    }
  ]
}