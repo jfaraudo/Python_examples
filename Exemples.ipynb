{
  "nbformat": 4,
  "nbformat_minor": 0,
  "metadata": {
    "colab": {
      "provenance": [],
      "authorship_tag": "ABX9TyOZ3+wwC9yr4KZA1CjKJufu",
      "include_colab_link": true
    },
    "kernelspec": {
      "name": "python3",
      "display_name": "Python 3"
    },
    "language_info": {
      "name": "python"
    }
  },
  "cells": [
    {
      "cell_type": "markdown",
      "metadata": {
        "id": "view-in-github",
        "colab_type": "text"
      },
      "source": [
        "<a href=\"https://colab.research.google.com/github/jfaraudo/Python_examples/blob/main/Exemples.ipynb\" target=\"_parent\"><img src=\"https://colab.research.google.com/assets/colab-badge.svg\" alt=\"Open In Colab\"/></a>"
      ]
    },
    {
      "cell_type": "markdown",
      "source": [
        "**The simplest numerical examples in python**"
      ],
      "metadata": {
        "id": "uWkQxCOxxGoD"
      }
    },
    {
      "cell_type": "code",
      "source": [
        "a=3\n",
        "b=-5\n",
        "c=a+b\n",
        "print(c)"
      ],
      "metadata": {
        "colab": {
          "base_uri": "https://localhost:8080/"
        },
        "id": "gcXJVnrYxLI3",
        "outputId": "4631cece-1e6a-4bb4-e81b-f1985ea19885"
      },
      "execution_count": 3,
      "outputs": [
        {
          "output_type": "stream",
          "name": "stdout",
          "text": [
            "-2\n"
          ]
        }
      ]
    },
    {
      "cell_type": "code",
      "source": [
        "print(a-b)"
      ],
      "metadata": {
        "colab": {
          "base_uri": "https://localhost:8080/"
        },
        "id": "k2ca0WGuxY1m",
        "outputId": "46dea930-fccb-4921-acd5-e69ddb293baf"
      },
      "execution_count": null,
      "outputs": [
        {
          "output_type": "stream",
          "name": "stdout",
          "text": [
            "8\n"
          ]
        }
      ]
    },
    {
      "cell_type": "markdown",
      "source": [
        "**Examples with Strings**"
      ],
      "metadata": {
        "id": "EU65MnHaxl_5"
      }
    },
    {
      "cell_type": "code",
      "source": [
        "a=\"Hello\"\n",
        "b=\"Dolly\"\n",
        "print(a+b)"
      ],
      "metadata": {
        "colab": {
          "base_uri": "https://localhost:8080/"
        },
        "id": "DMuafRBxxp3g",
        "outputId": "8f910d7a-a880-472f-d651-c08592a04a71"
      },
      "execution_count": null,
      "outputs": [
        {
          "output_type": "stream",
          "name": "stdout",
          "text": [
            "HelloDolly\n"
          ]
        }
      ]
    },
    {
      "cell_type": "markdown",
      "source": [
        "**Arrays**"
      ],
      "metadata": {
        "id": "faoIk408x77N"
      }
    },
    {
      "cell_type": "code",
      "source": [
        "a=[\"peres\",\"pomes\",\"pressecs\"]\n",
        "b=[1,-4,9.76]\n"
      ],
      "metadata": {
        "id": "BX5U-MCVyNoh"
      },
      "execution_count": null,
      "outputs": []
    },
    {
      "cell_type": "markdown",
      "source": [
        "Extract member of array and operate with it"
      ],
      "metadata": {
        "id": "aRpbwGt-yfwa"
      }
    },
    {
      "cell_type": "code",
      "source": [
        "print(a[0])"
      ],
      "metadata": {
        "colab": {
          "base_uri": "https://localhost:8080/"
        },
        "id": "3TL2qtBBykQQ",
        "outputId": "36189389-adda-4be8-b9e3-7c103d3709cf"
      },
      "execution_count": null,
      "outputs": [
        {
          "output_type": "stream",
          "name": "stdout",
          "text": [
            "peres\n"
          ]
        }
      ]
    },
    {
      "cell_type": "code",
      "source": [
        "print(b[2])"
      ],
      "metadata": {
        "colab": {
          "base_uri": "https://localhost:8080/"
        },
        "id": "RmSSBYjjypNA",
        "outputId": "26e49eb4-2dfb-4681-9541-9e8f75a0c18b"
      },
      "execution_count": null,
      "outputs": [
        {
          "output_type": "stream",
          "name": "stdout",
          "text": [
            "9.76\n"
          ]
        }
      ]
    },
    {
      "cell_type": "code",
      "source": [
        "c=b[1]-b[0]\n",
        "print(c)"
      ],
      "metadata": {
        "colab": {
          "base_uri": "https://localhost:8080/"
        },
        "id": "iz1vVnOxy7gI",
        "outputId": "cb2aa7b2-61d1-4c00-8d7d-2f789e7ada94"
      },
      "execution_count": null,
      "outputs": [
        {
          "output_type": "stream",
          "name": "stdout",
          "text": [
            "-5\n"
          ]
        }
      ]
    },
    {
      "cell_type": "code",
      "source": [
        "d=a[1]+a[2]\n",
        "print(d)"
      ],
      "metadata": {
        "colab": {
          "base_uri": "https://localhost:8080/"
        },
        "id": "r5tcUm0IzG5I",
        "outputId": "a4d4cb77-2109-4516-e00b-9ff3d59d09b2"
      },
      "execution_count": null,
      "outputs": [
        {
          "output_type": "stream",
          "name": "stdout",
          "text": [
            "pomespressecs\n"
          ]
        }
      ]
    },
    {
      "cell_type": "markdown",
      "source": [
        "**Example of entering a value from keyboard**"
      ],
      "metadata": {
        "id": "ep5jiFSpzcyw"
      }
    },
    {
      "cell_type": "code",
      "source": [
        "a=input(\"enter a number:\")\n",
        "b=float(a)/3\n",
        "print(b)"
      ],
      "metadata": {
        "colab": {
          "base_uri": "https://localhost:8080/"
        },
        "id": "wtVmlwAwzieE",
        "outputId": "6f235515-914f-4afe-f3dc-047737d11bd6"
      },
      "execution_count": 4,
      "outputs": [
        {
          "output_type": "stream",
          "name": "stdout",
          "text": [
            "enter a number:34\n",
            "11.333333333333334\n"
          ]
        }
      ]
    }
  ]
}
