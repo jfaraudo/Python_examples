{
  "nbformat": 4,
  "nbformat_minor": 0,
  "metadata": {
    "colab": {
      "provenance": [],
      "authorship_tag": "ABX9TyOZ3+wwC9yr4KZA1CjKJufu",
      "include_colab_link": true
    },
    "kernelspec": {
      "name": "python3",
      "display_name": "Python 3"
    },
    "language_info": {
      "name": "python"
    }
  },
  "cells": [
    {
      "cell_type": "markdown",
      "metadata": {
        "id": "view-in-github",
        "colab_type": "text"
      },
      "source": [
        "<a href=\"https://colab.research.google.com/github/jfaraudo/Python_examples/blob/main/Simple_Examples.ipynb\" target=\"_parent\"><img src=\"https://colab.research.google.com/assets/colab-badge.svg\" alt=\"Open In Colab\"/></a>"
      ]
    },
    {
      "cell_type": "markdown",
      "source": [
        "**The simplest numerical examples in python**"
      ],
      "metadata": {
        "id": "uWkQxCOxxGoD"
      }
    },
    {
      "cell_type": "code",
      "source": [
        "a=3\n",
        "b=-5\n",
        "c=a+b\n",
        "print(c)"
      ],
      "metadata": {
        "id": "gcXJVnrYxLI3"
      },
      "execution_count": null,
      "outputs": []
    },
    {
      "cell_type": "code",
      "source": [
        "print(a-b)"
      ],
      "metadata": {
        "id": "k2ca0WGuxY1m"
      },
      "execution_count": null,
      "outputs": []
    },
    {
      "cell_type": "markdown",
      "source": [
        "**Examples with Strings**"
      ],
      "metadata": {
        "id": "EU65MnHaxl_5"
      }
    },
    {
      "cell_type": "code",
      "source": [
        "a=\"Hello\"\n",
        "b=\"Dolly\"\n",
        "print(a+b)"
      ],
      "metadata": {
        "id": "DMuafRBxxp3g"
      },
      "execution_count": null,
      "outputs": []
    },
    {
      "cell_type": "markdown",
      "source": [
        "**Arrays**"
      ],
      "metadata": {
        "id": "faoIk408x77N"
      }
    },
    {
      "cell_type": "code",
      "source": [
        "a=[\"peres\",\"pomes\",\"pressecs\"]\n",
        "b=[1,-4,9.76]\n"
      ],
      "metadata": {
        "id": "BX5U-MCVyNoh"
      },
      "execution_count": null,
      "outputs": []
    },
    {
      "cell_type": "markdown",
      "source": [
        "Extract member of array and operate with it"
      ],
      "metadata": {
        "id": "aRpbwGt-yfwa"
      }
    },
    {
      "cell_type": "code",
      "source": [
        "print(a[0])"
      ],
      "metadata": {
        "id": "3TL2qtBBykQQ"
      },
      "execution_count": null,
      "outputs": []
    },
    {
      "cell_type": "code",
      "source": [
        "print(b[2])"
      ],
      "metadata": {
        "id": "RmSSBYjjypNA"
      },
      "execution_count": null,
      "outputs": []
    },
    {
      "cell_type": "code",
      "source": [
        "c=b[1]-b[0]\n",
        "print(c)"
      ],
      "metadata": {
        "id": "iz1vVnOxy7gI"
      },
      "execution_count": null,
      "outputs": []
    },
    {
      "cell_type": "code",
      "source": [
        "d=a[1]+a[2]\n",
        "print(d)"
      ],
      "metadata": {
        "id": "r5tcUm0IzG5I"
      },
      "execution_count": null,
      "outputs": []
    },
    {
      "cell_type": "markdown",
      "source": [
        "**Example of entering a value from keyboard**"
      ],
      "metadata": {
        "id": "ep5jiFSpzcyw"
      }
    },
    {
      "cell_type": "code",
      "source": [
        "a=input(\"enter a number:\")\n",
        "b=float(a)/3\n",
        "print(b)"
      ],
      "metadata": {
        "id": "wtVmlwAwzieE"
      },
      "execution_count": null,
      "outputs": []
    }
  ]
}